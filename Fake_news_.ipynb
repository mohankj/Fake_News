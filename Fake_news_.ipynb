{
  "nbformat": 4,
  "nbformat_minor": 0,
  "metadata": {
    "colab": {
      "provenance": [],
      "collapsed_sections": []
    },
    "kernelspec": {
      "name": "python3",
      "display_name": "Python 3"
    },
    "language_info": {
      "name": "python"
    }
  },
  "cells": [
    {
      "cell_type": "markdown",
      "source": [
        "# ***About the dataset***\n",
        "\n",
        "**id**: unique id for a news article\n",
        "\n",
        "**title**: the title of a news article\n",
        "\n",
        "**author**: author of a news article\n",
        "\n",
        "**text**: the text of the article; could be incomplete\n",
        "\n",
        "**label**: a label that marks whether the news article is fake or not"
      ],
      "metadata": {
        "id": "1j3DilfSe3u4"
      }
    },
    {
      "cell_type": "code",
      "execution_count": null,
      "metadata": {
        "id": "uHlRG_9o_c1L"
      },
      "outputs": [],
      "source": [
        "#importing the dependies\n",
        "import numpy as np\n",
        "import pandas as pd\n",
        "import re\n",
        "from nltk.corpus import stopwords\n",
        "from nltk.stem.porter import PorterStemmer\n",
        "from sklearn.feature_extraction.text import TfidfVectorizer\n",
        "from sklearn.model_selection import train_test_split\n",
        "from sklearn.linear_model import LogisticRegression\n",
        "from sklearn.metrics import accuracy_score"
      ]
    },
    {
      "cell_type": "code",
      "source": [
        "import nltk\n",
        "nltk.download('stopwords')"
      ],
      "metadata": {
        "colab": {
          "base_uri": "https://localhost:8080/"
        },
        "id": "E4x5evrxkTkd",
        "outputId": "57bd0cc1-16fd-451c-b155-2abf29819204"
      },
      "execution_count": null,
      "outputs": [
        {
          "output_type": "stream",
          "name": "stderr",
          "text": [
            "[nltk_data] Downloading package stopwords to /root/nltk_data...\n",
            "[nltk_data]   Package stopwords is already up-to-date!\n"
          ]
        },
        {
          "output_type": "execute_result",
          "data": {
            "text/plain": [
              "True"
            ]
          },
          "metadata": {},
          "execution_count": 15
        }
      ]
    },
    {
      "cell_type": "code",
      "source": [
        "# printing the english words\n",
        "print(stopwords.words('english'))"
      ],
      "metadata": {
        "colab": {
          "base_uri": "https://localhost:8080/"
        },
        "id": "9kx9nKObl-yf",
        "outputId": "82537627-b678-4f72-8840-6f055d8f8a57"
      },
      "execution_count": null,
      "outputs": [
        {
          "output_type": "stream",
          "name": "stdout",
          "text": [
            "['i', 'me', 'my', 'myself', 'we', 'our', 'ours', 'ourselves', 'you', \"you're\", \"you've\", \"you'll\", \"you'd\", 'your', 'yours', 'yourself', 'yourselves', 'he', 'him', 'his', 'himself', 'she', \"she's\", 'her', 'hers', 'herself', 'it', \"it's\", 'its', 'itself', 'they', 'them', 'their', 'theirs', 'themselves', 'what', 'which', 'who', 'whom', 'this', 'that', \"that'll\", 'these', 'those', 'am', 'is', 'are', 'was', 'were', 'be', 'been', 'being', 'have', 'has', 'had', 'having', 'do', 'does', 'did', 'doing', 'a', 'an', 'the', 'and', 'but', 'if', 'or', 'because', 'as', 'until', 'while', 'of', 'at', 'by', 'for', 'with', 'about', 'against', 'between', 'into', 'through', 'during', 'before', 'after', 'above', 'below', 'to', 'from', 'up', 'down', 'in', 'out', 'on', 'off', 'over', 'under', 'again', 'further', 'then', 'once', 'here', 'there', 'when', 'where', 'why', 'how', 'all', 'any', 'both', 'each', 'few', 'more', 'most', 'other', 'some', 'such', 'no', 'nor', 'not', 'only', 'own', 'same', 'so', 'than', 'too', 'very', 's', 't', 'can', 'will', 'just', 'don', \"don't\", 'should', \"should've\", 'now', 'd', 'll', 'm', 'o', 're', 've', 'y', 'ain', 'aren', \"aren't\", 'couldn', \"couldn't\", 'didn', \"didn't\", 'doesn', \"doesn't\", 'hadn', \"hadn't\", 'hasn', \"hasn't\", 'haven', \"haven't\", 'isn', \"isn't\", 'ma', 'mightn', \"mightn't\", 'mustn', \"mustn't\", 'needn', \"needn't\", 'shan', \"shan't\", 'shouldn', \"shouldn't\", 'wasn', \"wasn't\", 'weren', \"weren't\", 'won', \"won't\", 'wouldn', \"wouldn't\"]\n"
          ]
        }
      ]
    },
    {
      "cell_type": "markdown",
      "source": [
        "Data - Pre proccessing"
      ],
      "metadata": {
        "id": "rtgUgIItm01L"
      }
    },
    {
      "cell_type": "code",
      "source": [
        "# loading the dataset into pandas dataframe\n",
        "news_dataset = pd.read_csv('/content/train.csv')"
      ],
      "metadata": {
        "id": "82ytTcfjmoqo"
      },
      "execution_count": null,
      "outputs": []
    },
    {
      "cell_type": "code",
      "source": [
        "news_dataset.shape"
      ],
      "metadata": {
        "colab": {
          "base_uri": "https://localhost:8080/"
        },
        "id": "NohlcfRF0IkC",
        "outputId": "268e31c7-da9c-4874-8e2e-62f8b2b6fdf8"
      },
      "execution_count": null,
      "outputs": [
        {
          "output_type": "execute_result",
          "data": {
            "text/plain": [
              "(20800, 5)"
            ]
          },
          "metadata": {},
          "execution_count": 18
        }
      ]
    },
    {
      "cell_type": "code",
      "source": [
        "#print first 5 rows of dataset\n",
        "news_dataset.head()"
      ],
      "metadata": {
        "colab": {
          "base_uri": "https://localhost:8080/",
          "height": 206
        },
        "id": "922mMNe_0RMW",
        "outputId": "bc3b799a-0617-4709-c4d0-0de08b0ccabf"
      },
      "execution_count": null,
      "outputs": [
        {
          "output_type": "execute_result",
          "data": {
            "text/plain": [
              "   id                                              title              author  \\\n",
              "0   0  House Dem Aide: We Didn’t Even See Comey’s Let...       Darrell Lucus   \n",
              "1   1  FLYNN: Hillary Clinton, Big Woman on Campus - ...     Daniel J. Flynn   \n",
              "2   2                  Why the Truth Might Get You Fired  Consortiumnews.com   \n",
              "3   3  15 Civilians Killed In Single US Airstrike Hav...     Jessica Purkiss   \n",
              "4   4  Iranian woman jailed for fictional unpublished...      Howard Portnoy   \n",
              "\n",
              "                                                text  label  \n",
              "0  House Dem Aide: We Didn’t Even See Comey’s Let...      1  \n",
              "1  Ever get the feeling your life circles the rou...      0  \n",
              "2  Why the Truth Might Get You Fired October 29, ...      1  \n",
              "3  Videos 15 Civilians Killed In Single US Airstr...      1  \n",
              "4  Print \\nAn Iranian woman has been sentenced to...      1  "
            ],
            "text/html": [
              "\n",
              "  <div id=\"df-20a90b6e-3973-4222-925c-f09f11bff55d\">\n",
              "    <div class=\"colab-df-container\">\n",
              "      <div>\n",
              "<style scoped>\n",
              "    .dataframe tbody tr th:only-of-type {\n",
              "        vertical-align: middle;\n",
              "    }\n",
              "\n",
              "    .dataframe tbody tr th {\n",
              "        vertical-align: top;\n",
              "    }\n",
              "\n",
              "    .dataframe thead th {\n",
              "        text-align: right;\n",
              "    }\n",
              "</style>\n",
              "<table border=\"1\" class=\"dataframe\">\n",
              "  <thead>\n",
              "    <tr style=\"text-align: right;\">\n",
              "      <th></th>\n",
              "      <th>id</th>\n",
              "      <th>title</th>\n",
              "      <th>author</th>\n",
              "      <th>text</th>\n",
              "      <th>label</th>\n",
              "    </tr>\n",
              "  </thead>\n",
              "  <tbody>\n",
              "    <tr>\n",
              "      <th>0</th>\n",
              "      <td>0</td>\n",
              "      <td>House Dem Aide: We Didn’t Even See Comey’s Let...</td>\n",
              "      <td>Darrell Lucus</td>\n",
              "      <td>House Dem Aide: We Didn’t Even See Comey’s Let...</td>\n",
              "      <td>1</td>\n",
              "    </tr>\n",
              "    <tr>\n",
              "      <th>1</th>\n",
              "      <td>1</td>\n",
              "      <td>FLYNN: Hillary Clinton, Big Woman on Campus - ...</td>\n",
              "      <td>Daniel J. Flynn</td>\n",
              "      <td>Ever get the feeling your life circles the rou...</td>\n",
              "      <td>0</td>\n",
              "    </tr>\n",
              "    <tr>\n",
              "      <th>2</th>\n",
              "      <td>2</td>\n",
              "      <td>Why the Truth Might Get You Fired</td>\n",
              "      <td>Consortiumnews.com</td>\n",
              "      <td>Why the Truth Might Get You Fired October 29, ...</td>\n",
              "      <td>1</td>\n",
              "    </tr>\n",
              "    <tr>\n",
              "      <th>3</th>\n",
              "      <td>3</td>\n",
              "      <td>15 Civilians Killed In Single US Airstrike Hav...</td>\n",
              "      <td>Jessica Purkiss</td>\n",
              "      <td>Videos 15 Civilians Killed In Single US Airstr...</td>\n",
              "      <td>1</td>\n",
              "    </tr>\n",
              "    <tr>\n",
              "      <th>4</th>\n",
              "      <td>4</td>\n",
              "      <td>Iranian woman jailed for fictional unpublished...</td>\n",
              "      <td>Howard Portnoy</td>\n",
              "      <td>Print \\nAn Iranian woman has been sentenced to...</td>\n",
              "      <td>1</td>\n",
              "    </tr>\n",
              "  </tbody>\n",
              "</table>\n",
              "</div>\n",
              "      <button class=\"colab-df-convert\" onclick=\"convertToInteractive('df-20a90b6e-3973-4222-925c-f09f11bff55d')\"\n",
              "              title=\"Convert this dataframe to an interactive table.\"\n",
              "              style=\"display:none;\">\n",
              "        \n",
              "  <svg xmlns=\"http://www.w3.org/2000/svg\" height=\"24px\"viewBox=\"0 0 24 24\"\n",
              "       width=\"24px\">\n",
              "    <path d=\"M0 0h24v24H0V0z\" fill=\"none\"/>\n",
              "    <path d=\"M18.56 5.44l.94 2.06.94-2.06 2.06-.94-2.06-.94-.94-2.06-.94 2.06-2.06.94zm-11 1L8.5 8.5l.94-2.06 2.06-.94-2.06-.94L8.5 2.5l-.94 2.06-2.06.94zm10 10l.94 2.06.94-2.06 2.06-.94-2.06-.94-.94-2.06-.94 2.06-2.06.94z\"/><path d=\"M17.41 7.96l-1.37-1.37c-.4-.4-.92-.59-1.43-.59-.52 0-1.04.2-1.43.59L10.3 9.45l-7.72 7.72c-.78.78-.78 2.05 0 2.83L4 21.41c.39.39.9.59 1.41.59.51 0 1.02-.2 1.41-.59l7.78-7.78 2.81-2.81c.8-.78.8-2.07 0-2.86zM5.41 20L4 18.59l7.72-7.72 1.47 1.35L5.41 20z\"/>\n",
              "  </svg>\n",
              "      </button>\n",
              "      \n",
              "  <style>\n",
              "    .colab-df-container {\n",
              "      display:flex;\n",
              "      flex-wrap:wrap;\n",
              "      gap: 12px;\n",
              "    }\n",
              "\n",
              "    .colab-df-convert {\n",
              "      background-color: #E8F0FE;\n",
              "      border: none;\n",
              "      border-radius: 50%;\n",
              "      cursor: pointer;\n",
              "      display: none;\n",
              "      fill: #1967D2;\n",
              "      height: 32px;\n",
              "      padding: 0 0 0 0;\n",
              "      width: 32px;\n",
              "    }\n",
              "\n",
              "    .colab-df-convert:hover {\n",
              "      background-color: #E2EBFA;\n",
              "      box-shadow: 0px 1px 2px rgba(60, 64, 67, 0.3), 0px 1px 3px 1px rgba(60, 64, 67, 0.15);\n",
              "      fill: #174EA6;\n",
              "    }\n",
              "\n",
              "    [theme=dark] .colab-df-convert {\n",
              "      background-color: #3B4455;\n",
              "      fill: #D2E3FC;\n",
              "    }\n",
              "\n",
              "    [theme=dark] .colab-df-convert:hover {\n",
              "      background-color: #434B5C;\n",
              "      box-shadow: 0px 1px 3px 1px rgba(0, 0, 0, 0.15);\n",
              "      filter: drop-shadow(0px 1px 2px rgba(0, 0, 0, 0.3));\n",
              "      fill: #FFFFFF;\n",
              "    }\n",
              "  </style>\n",
              "\n",
              "      <script>\n",
              "        const buttonEl =\n",
              "          document.querySelector('#df-20a90b6e-3973-4222-925c-f09f11bff55d button.colab-df-convert');\n",
              "        buttonEl.style.display =\n",
              "          google.colab.kernel.accessAllowed ? 'block' : 'none';\n",
              "\n",
              "        async function convertToInteractive(key) {\n",
              "          const element = document.querySelector('#df-20a90b6e-3973-4222-925c-f09f11bff55d');\n",
              "          const dataTable =\n",
              "            await google.colab.kernel.invokeFunction('convertToInteractive',\n",
              "                                                     [key], {});\n",
              "          if (!dataTable) return;\n",
              "\n",
              "          const docLinkHtml = 'Like what you see? Visit the ' +\n",
              "            '<a target=\"_blank\" href=https://colab.research.google.com/notebooks/data_table.ipynb>data table notebook</a>'\n",
              "            + ' to learn more about interactive tables.';\n",
              "          element.innerHTML = '';\n",
              "          dataTable['output_type'] = 'display_data';\n",
              "          await google.colab.output.renderOutput(dataTable, element);\n",
              "          const docLink = document.createElement('div');\n",
              "          docLink.innerHTML = docLinkHtml;\n",
              "          element.appendChild(docLink);\n",
              "        }\n",
              "      </script>\n",
              "    </div>\n",
              "  </div>\n",
              "  "
            ]
          },
          "metadata": {},
          "execution_count": 19
        }
      ]
    },
    {
      "cell_type": "code",
      "source": [
        "#Counting the missing values\n",
        "news_dataset.isnull().sum()"
      ],
      "metadata": {
        "colab": {
          "base_uri": "https://localhost:8080/"
        },
        "id": "v-T4MxZH0ZfF",
        "outputId": "1545aa24-2a7d-4e9c-ea9f-db0873111b51"
      },
      "execution_count": null,
      "outputs": [
        {
          "output_type": "execute_result",
          "data": {
            "text/plain": [
              "id           0\n",
              "title      558\n",
              "author    1957\n",
              "text        39\n",
              "label        0\n",
              "dtype: int64"
            ]
          },
          "metadata": {},
          "execution_count": 20
        }
      ]
    },
    {
      "cell_type": "code",
      "source": [
        "# Replace the null value with empty set\n",
        "news_dataset = news_dataset.fillna('')"
      ],
      "metadata": {
        "id": "OvdpaX2g0i8m"
      },
      "execution_count": null,
      "outputs": []
    },
    {
      "cell_type": "code",
      "source": [
        "# merging the text and author into content\n",
        "news_dataset['content'] = news_dataset['author'] + ' ' + news_dataset['text']"
      ],
      "metadata": {
        "id": "5SElbCGN0wIN"
      },
      "execution_count": null,
      "outputs": []
    },
    {
      "cell_type": "code",
      "source": [
        "print(news_dataset['content'])"
      ],
      "metadata": {
        "colab": {
          "base_uri": "https://localhost:8080/"
        },
        "id": "33u4e6Kn2FEf",
        "outputId": "b040be85-1598-462d-95f0-2dbf01c5063a"
      },
      "execution_count": null,
      "outputs": [
        {
          "output_type": "stream",
          "name": "stdout",
          "text": [
            "0        Darrell Lucus House Dem Aide: We Didn’t Even S...\n",
            "1        Daniel J. Flynn Ever get the feeling your life...\n",
            "2        Consortiumnews.com Why the Truth Might Get You...\n",
            "3        Jessica Purkiss Videos 15 Civilians Killed In ...\n",
            "4        Howard Portnoy Print \\nAn Iranian woman has be...\n",
            "                               ...                        \n",
            "20795    Jerome Hudson Rapper T. I. unloaded on black c...\n",
            "20796    Benjamin Hoffman When the Green Bay Packers lo...\n",
            "20797    Michael J. de la Merced and Rachel Abrams The ...\n",
            "20798    Alex Ansary NATO, Russia To Hold Parallel Exer...\n",
            "20799    David Swanson   David Swanson is an author, ac...\n",
            "Name: content, Length: 20800, dtype: object\n"
          ]
        }
      ]
    },
    {
      "cell_type": "code",
      "source": [
        "# seperating the data and label\n",
        "X = news_dataset.drop('label',axis=1)\n",
        "Y = news_dataset['label']"
      ],
      "metadata": {
        "id": "aW3LX1oW2Kyu"
      },
      "execution_count": null,
      "outputs": []
    },
    {
      "cell_type": "code",
      "source": [
        "print(X)"
      ],
      "metadata": {
        "colab": {
          "base_uri": "https://localhost:8080/"
        },
        "id": "QC_spLcv20Js",
        "outputId": "2d5e15cd-2261-4859-b91b-41943a56bb34"
      },
      "execution_count": null,
      "outputs": [
        {
          "output_type": "stream",
          "name": "stdout",
          "text": [
            "          id                                              title  \\\n",
            "0          0  House Dem Aide: We Didn’t Even See Comey’s Let...   \n",
            "1          1  FLYNN: Hillary Clinton, Big Woman on Campus - ...   \n",
            "2          2                  Why the Truth Might Get You Fired   \n",
            "3          3  15 Civilians Killed In Single US Airstrike Hav...   \n",
            "4          4  Iranian woman jailed for fictional unpublished...   \n",
            "...      ...                                                ...   \n",
            "20795  20795  Rapper T.I.: Trump a ’Poster Child For White S...   \n",
            "20796  20796  N.F.L. Playoffs: Schedule, Matchups and Odds -...   \n",
            "20797  20797  Macy’s Is Said to Receive Takeover Approach by...   \n",
            "20798  20798  NATO, Russia To Hold Parallel Exercises In Bal...   \n",
            "20799  20799                          What Keeps the F-35 Alive   \n",
            "\n",
            "                                          author  \\\n",
            "0                                  Darrell Lucus   \n",
            "1                                Daniel J. Flynn   \n",
            "2                             Consortiumnews.com   \n",
            "3                                Jessica Purkiss   \n",
            "4                                 Howard Portnoy   \n",
            "...                                          ...   \n",
            "20795                              Jerome Hudson   \n",
            "20796                           Benjamin Hoffman   \n",
            "20797  Michael J. de la Merced and Rachel Abrams   \n",
            "20798                                Alex Ansary   \n",
            "20799                              David Swanson   \n",
            "\n",
            "                                                    text  \\\n",
            "0      House Dem Aide: We Didn’t Even See Comey’s Let...   \n",
            "1      Ever get the feeling your life circles the rou...   \n",
            "2      Why the Truth Might Get You Fired October 29, ...   \n",
            "3      Videos 15 Civilians Killed In Single US Airstr...   \n",
            "4      Print \\nAn Iranian woman has been sentenced to...   \n",
            "...                                                  ...   \n",
            "20795  Rapper T. I. unloaded on black celebrities who...   \n",
            "20796  When the Green Bay Packers lost to the Washing...   \n",
            "20797  The Macy’s of today grew from the union of sev...   \n",
            "20798  NATO, Russia To Hold Parallel Exercises In Bal...   \n",
            "20799    David Swanson is an author, activist, journa...   \n",
            "\n",
            "                                                 content  \n",
            "0      Darrell Lucus House Dem Aide: We Didn’t Even S...  \n",
            "1      Daniel J. Flynn Ever get the feeling your life...  \n",
            "2      Consortiumnews.com Why the Truth Might Get You...  \n",
            "3      Jessica Purkiss Videos 15 Civilians Killed In ...  \n",
            "4      Howard Portnoy Print \\nAn Iranian woman has be...  \n",
            "...                                                  ...  \n",
            "20795  Jerome Hudson Rapper T. I. unloaded on black c...  \n",
            "20796  Benjamin Hoffman When the Green Bay Packers lo...  \n",
            "20797  Michael J. de la Merced and Rachel Abrams The ...  \n",
            "20798  Alex Ansary NATO, Russia To Hold Parallel Exer...  \n",
            "20799  David Swanson   David Swanson is an author, ac...  \n",
            "\n",
            "[20800 rows x 5 columns]\n"
          ]
        }
      ]
    },
    {
      "cell_type": "code",
      "source": [
        "print(Y)"
      ],
      "metadata": {
        "colab": {
          "base_uri": "https://localhost:8080/"
        },
        "id": "eNXMpetw22tJ",
        "outputId": "9b7acbd9-94d5-427c-990b-62b770b51b50"
      },
      "execution_count": null,
      "outputs": [
        {
          "output_type": "stream",
          "name": "stdout",
          "text": [
            "0        1\n",
            "1        0\n",
            "2        1\n",
            "3        1\n",
            "4        1\n",
            "        ..\n",
            "20795    0\n",
            "20796    0\n",
            "20797    0\n",
            "20798    1\n",
            "20799    1\n",
            "Name: label, Length: 20800, dtype: int64\n"
          ]
        }
      ]
    },
    {
      "cell_type": "markdown",
      "source": [
        "Stemming : Stemming is a process of reducing a word to its root word "
      ],
      "metadata": {
        "id": "vaQ4pquD29pn"
      }
    },
    {
      "cell_type": "code",
      "source": [
        "port_stem = PorterStemmer()"
      ],
      "metadata": {
        "id": "D4AKb6Wt24oR"
      },
      "execution_count": null,
      "outputs": []
    },
    {
      "cell_type": "code",
      "source": [
        "def stemming(content):\n",
        "  stemmed_content = re.sub('^a-zA-Z',' ',content)\n",
        "  stemmed_content = stemmed_content.lower()\n",
        "  stemmed_content = stemmed_content.split()\n",
        "  stemmed_content = [port_stem.stem(word) for word in stemmed_content if not word in stopwords.words('english')]\n",
        "  stemmed_content = ' '.join(stemmed_content)\n",
        "  return stemmed_content"
      ],
      "metadata": {
        "id": "QRlKEAat3Mba"
      },
      "execution_count": null,
      "outputs": []
    },
    {
      "cell_type": "code",
      "source": [
        "news_dataset['content'] = news_dataset['content'].apply(stemming)"
      ],
      "metadata": {
        "id": "csSN0IKx7SlJ"
      },
      "execution_count": null,
      "outputs": []
    },
    {
      "cell_type": "code",
      "source": [
        "print(news_dataset['content'])"
      ],
      "metadata": {
        "colab": {
          "base_uri": "https://localhost:8080/"
        },
        "id": "EY7h_KeF77YC",
        "outputId": "882fa013-0e71-40fd-85cd-20f0058873bc"
      },
      "execution_count": null,
      "outputs": [
        {
          "output_type": "stream",
          "name": "stdout",
          "text": [
            "0        darrel lucu hous dem aide: didn’t even see com...\n",
            "1        daniel j. flynn ever get feel life circl round...\n",
            "2        consortiumnews.com truth might get fire octob ...\n",
            "3        jessica purkiss video 15 civilian kill singl u...\n",
            "4        howard portnoy print iranian woman sentenc six...\n",
            "                               ...                        \n",
            "20795    jerom hudson rapper t. i. unload black celebr ...\n",
            "20796    benjamin hoffman green bay packer lost washing...\n",
            "20797    michael j. de la merc rachel abram macy’ today...\n",
            "20798    alex ansari nato, russia hold parallel exercis...\n",
            "20799    david swanson david swanson author, activist, ...\n",
            "Name: content, Length: 20800, dtype: object\n"
          ]
        }
      ]
    },
    {
      "cell_type": "code",
      "source": [
        "# seperating the data and label\n",
        "X = news_dataset['content'].values\n",
        "Y = news_dataset['label'].values\n"
      ],
      "metadata": {
        "id": "8hppumHYEQHo"
      },
      "execution_count": null,
      "outputs": []
    },
    {
      "cell_type": "code",
      "source": [
        "print(X)"
      ],
      "metadata": {
        "colab": {
          "base_uri": "https://localhost:8080/"
        },
        "id": "BjcUoKlcEsF5",
        "outputId": "9e7cc1f0-b25b-4d3a-e3b0-2f73e05de9db"
      },
      "execution_count": null,
      "outputs": [
        {
          "output_type": "stream",
          "name": "stdout",
          "text": [
            "['darrel lucu hous dem aide: didn’t even see comey’ letter jason chaffetz tweet darrel lucu octob 30, 2016 subscrib jason chaffetz stump american fork, utah ( imag courtesi michael jolley, avail creativ commons-bi license) apolog keith olbermann, doubt worst person world week–fbi director jame comey. accord hous democrat aide, look like also know second-worst person well. turn comey sent now-infam letter announc fbi look email may relat hillari clinton’ email server, rank democrat relev committe didn’t hear comey. found via tweet one republican committe chairmen. know, comey notifi republican chairmen democrat rank member hous intelligence, judiciary, oversight committe agenc review email recent discov order see contain classifi information. long letter went out, oversight committe chairman jason chaffetz set polit world ablaz tweet. fbi dir inform me, \"the fbi learn exist email appear pertin investigation.\" case reopen — jason chaffetz (@jasoninthehouse) octob 28, 2016 course, know case . comey actual say review email light “an unrel case”–which know anthoni weiner’ sext teenager. appar littl thing fact didn’t matter chaffetz. utah republican alreadi vow initi raft investig hillari wins–at least two years’ worth, possibl entir term’ worth them. appar chaffetz thought fbi alreadi work him–result tweet briefli roil nation cooler head realiz dud. accord senior hous democrat aide, misread letter may least chaffetz’ sins. aid told shareblu boss democrat didn’t even know comey’ letter time–and found check twitter. “democrat rank member relev committe didn’t receiv comey’ letter republican chairmen. fact, democrat rank member didn’ receiv chairman oversight govern reform committee, jason chaffetz, tweet made public.” let’ see we’v got right. fbi director tell chaffetz gop committe chairmen major develop potenti polit explos investigation, neither chaffetz colleagu courtesi let democrat counterpart know it. instead, accord aide, made find twitter. alreadi talk daili ko comey provid advanc notic letter chaffetz republicans, give time turn spin machine. may make good theater, noth far even suggest case. all, noth far suggest comey anyth grossli incompet tone-deaf. suggest, however, chaffetz act way make dan burton darrel issa look like model respons bipartisanship. didn’t even decenc notifi rank member elijah cum someth explosive. doesn’t trampl basic standard fairness, don’t know does. granted, it’ like chaffetz answer this. sit ridicul republican district anchor provo orem; cook partisan vote index r+25, gave mitt romney punish 78 percent vote 2012. moreover, republican hous leadership given full support chaffetz’ plan fish expedition. doesn’t mean can’t turn hot light him. all, textbook exampl hous becom republican control. also second worst person world. darrel lucu darrel 30-someth graduat univers north carolina consid journalist old school. attempt turn member religi right colleg succeed turn religi right\\' worst nightmare--a charismat christian unapologet liberal. desir stand scare silenc increas surviv abus three-year marriage. may know daili ko christian dem nc . follow twitter @darrelllucu connect facebook . click buy darrel mello yello. connect'\n",
            " 'daniel j. flynn ever get feel life circl roundabout rather head straight line toward intend destination? [hillari clinton remain big woman campu leafy, liber wellesley, massachusetts. everywher els vote like inaugur dress remaind day way miss havisham forev wore wed dress. speak great expectations, hillari rodham overflow 48 year ago first address wellesley graduat class. presid colleg inform gather 1969 student need “no debat far could ascertain spokesman be” (kind like democrat primari 2016 minu term unknown even seven sister school). “i glad miss adam made clear speak today us — 400 us,” miss rodham told classmates. appoint edger bergen charli mccarthi mortim snerd attendance, bespectacl granni glass (award matronli wisdom — least john lennon wisdom) took issu previou speaker. despit becom first win elect seat u. s. senat sinc reconstruction, edward brook came critic call “empathy” goal protestor critic tactics. though clinton senior thesi saul alinski lament “black power demagogues” “elitist arrog repress intolerance” within new left, similar word come republican necessit brief rebuttal. “trust,” rodham iron observ 1969, “thi one word ask class rehears want say them, everyon came said ‘talk trust, talk lack trust us way feel others. talk trust bust.’ say it? say feel permeat gener perhap even understood distrusted?” “trust bust” certainli bust clinton’ 2016 plans. certainli even understand peopl distrust her. whitewater, travelgate, vast conspiracy, benghazi, miss emails, clinton found distrust voic friday. load compromis road broaden polit horizons. distrust american peopl — trump edg 48 percent 38 percent question immedi prior november’ elect — stood major reason close horizons. clinton describ vanquish support embrac “lie,” “con,” “altern facts,” “a assault truth reason. ” fail explain american peopl chose lie truth. “a histori major among today know well, peopl power invent fact attack question them, mark begin end free society,” offered. “that hyperbole. ” like mani peopl emerg 1960s, hillari clinton embark upon long, strang trip. high school goldwat girl wellesley colleg republican presid democrat politician, clinton drank time place gave degree. significantly, went idealist cynic, comparison two wellesley commenc address show. way back when, lament “for long leader view polit art possible, challeng practic polit art make appear imposs possible. ” now, big woman campu odd woman white house, wonder current station even possible. “whi aren’t 50 point ahead?” ask september. may ask isn’t president. woman famous dub “congenit liar” bill safir conclud lie — theirs, mind you, hers. get stood elect day, like find jilt bride wed day, inspir danger delusions.'\n",
            " 'consortiumnews.com truth might get fire octob 29, 2016 tension intellig analyst polit policymak alway honest assess desir results, latter often overwhelm former, iraq war, write lawrenc davidson. lawrenc davidson might wonder foreign polici maker repeatedli make bad choices, insight might drawn follow analysis. action play unit states, lesson probabl universal. back earli spring 2003, georg w. bush initi invas iraq. one key public reason claim country’ dictator, saddam hussein, verg develop nuclear weapon hide weapon mass destruction. real reason went beyond charg includ long-rang plan “regim change” middl east. presid georg w. bush vice presid dick cheney receiv oval offic brief cia director georg tenet. also present chief staff andi card (on right). (white hous photo) purposes, concentr belief iraq becom hostil nuclear power. presid bush close associ accept scenario readily? short answer bush wanted, inde needed, believ rational invad iraq. first tri connect saddam hussein 9/11 attack u.s. though never gave stratagem, lack evid made difficult ralli american people, alreadi fixat afghanistan, support war baghdad. nuclear weapon gambit prove fruitful, hard evid charge, supposedli reliabl witnesses, person exil anti-saddam iraqi (mani u.s. government’ payrol ), kept tell bush advis nuclear stori true. u.s. leadership cadr whose worldview liter demand mortal danger iraq, inform who, order precipit overthrow saddam, will tell tale pend atom weapons. strong desir believ tale nuclear iraq lower threshold proof . likewise, repeat assert assum depend iraqi sourc underpin nationwid u.s. campaign gener fear war fever. u.s. alli insist unit nation send weapon inspector scour iraq evid nuclear weapon program (a well chemic biolog weapons). inspector could find convinc evid frustrat bush administr soon forc hand. march 19, 2003, bush launch invas iraq expect that, occup country, u.s. inspector would sure find evid nuke (or least stockpil chemic biolog weapons). not. iraqi inform systemat lie them. social behavior scienc rescue? variou u.s. intellig agenc thoroughli shaken affair, today, 13 year later, director manag still tri sort – specifically, tell get “true” intellig lie to. or, one intellig worker put it, need “ help protect us armi snake oil salesmen. ” end cia et al. market academ assistance. ahm chalabi, head iraqi nation congress, key supplier iraqi defector bogu stori hidden wmd. “partnership” forg offic director nation intellig (odni), serv coordin center sixteen independ u.s. intellig agencies, nation academi sciences, engin medicin . result collabor “ perman intellig commun studi board” coordin program “social behavior scienc research [that] might strengthen nation secur .” despit effort, almost certain “social behavior sciences” cannot give spi agenc want – way detect lie better present standard procedur polygraph test interrogations. even could, might well make difference, real problem found liars. found believers. believ simpli true, odni leader seem assert, u.s. intellig agenc personnel cannot tell, often not, lie to. case thousand middle-echelon intellig workers, desk officers, specialist know someth close approach truth – is, know pretti well go place like afghanistan, iraq, syria, libya, israel, palestin elsewhere. director nation intellig jame clapper (right) talk presid barack obama oval office, john brennan nation secur aid present. (photo credit: offic director nation intelligence) therefore, someon feed “snake oil,” usual know it. however, accur grasp thing often avail superior – got appoint accept pre-structur worldview – differ criterion “true” analysts. listen charl gaukel, nation intellig council – yet anoth organ act meet ground 16 intellig agencies. refer search way avoid get taken lies, gaukel declared, “ we’r look truth. we’r particularli look truth works. ” might mean? certainli tell mean historically. mean power brokers, “truth” must match up, fit with, worldview – polit ideolog precepts. fit, “work.” intellig specialist send usual accur assess line polici maker often hit roadblock caus “group think,” ideolog blinkers, “we know better” attitude. hand, long you’r sell leadership match want believe, peddl anything: imaginari iraqi nukes, israel western-styl democracy, saudi arabia indispens ally, libya liber country, bashar al-assad real roadblock peac syria, strateg defens initi (sdi) aka star wars, world get colder warmer, american exception glori – list almost endless. sad tale tell us? want spend million dollar social behavior scienc research improv assess use intelligence, forget liars. want look antidot narrow-minded believ – policymak seem abl rise ideolog presumpt class – presumpt underpin self-confid lead us slipperi slopes. happen way often, mani places, sourc shakespeare’ determin “what past, prelude.” elit play destini free – capac break structur way seeing. yet middle-echelon specialist keep send rel accur assess ladder power. hope spring eternal.'\n",
            " ...\n",
            " 'michael j. de la merc rachel abram macy’ today grew union sever great name american retailing, includ namesak chain, bloomingdale’ marshal field’s. ambiti owner sak fifth avenu broach idea take union even further, combin macy’ creat depart store juggernaut time industri reeling. hudson’ bay company, canadian owner saks, approach macy’ potenti takeover, peopl brief matter author speak publicli said friday. talk two compani earli stage may still fall apart lead partnership kind rather sale. unclear whether deal happen, combin could lift fortun macy’s, country’ biggest depart store, struggling. investor certainli appear see way. share macy’ rose much 12 percent friday, biggest intraday gain sinc aug. 11, accord data bloomberg. retail titan, macy’ struggl remain relev discount retail decim tradit business. last month, macy’ announc plan cut 10, 000 job close 880 stores. terri lundgren, chief execut architect macy’ last big merger, expect step end march. succeed company’ president, jeffrey gennette. sinc recession, shopper grown accustom hunt bargain pay full price. discount store outlet mall flourished. tradit store compel respond trim prices, cut margins. depart store hit especi hard, particularli shopper migrat away malls. emerged, analyst say, virtual race bottom. particularli difficult macy’s, born seri merger past two decad made juggernaut industry. stalwart middl tier retail, compani neither advantag retail like hm stores. addition, macy’ face increasingli fierc competit onlin site like amazon elsewhere. macy’ troubl drawn attent promin activist hedg fund, starboard value, urg compani gener cash sell real estat beneath stores. starboard, held 1 percent macy’ share sept. 30, previous estim valu land $21 billion. friday, analyst citigroup estim macy’ hold could worth least $18 billion. macy’ market value, comparison, $11 billion friday morning. macy’ taken step sell redevelop stores, last year, ad expert real estat transact board. compani larg resist ambiti effort divest real estate, includ deals, compani sell underli land beneath store rent back. company’ suitor, hudson’ bay company, far smaller — market valu 1. 9 billion canadian dollars, $1. 5 billion — known bold steps. hudson’ bay compani assembl grow empir includ hudson’ bay depart store chain, lord taylor crown jewel, saks. governor execut chairman hudson’ bay company, richard baker, shown littl fear use debt: novemb 2014, compani borrow nearli $4 billion sak flagship midtown manhattan. spoken often retailers’ need highlight valu real estate. financ bid macy’ may trickier, however, carri $6. 5 billion debt. may mean hudson’ bay compani bring partner borrow real estat holdings. spokesman hudson’ bay compani declin comment talks, report earlier wall street journal. “we comment rumor speculation,” repres macy’ said. repres starboard valu respond request comment. analyst said saw merit potenti combination, particularli given macy’ oper woe mr. baker’ expertis wring money real estate. “there clear logic, despit dispar cap” macy’ hudson’ bay company, craig johnson, presid custom growth partners, research firm, said note. refer macy’ stock ticker symbol, added, “the retail market chang faster abl keep with, whether flight mall migrat online. ”'\n",
            " 'alex ansari nato, russia hold parallel exercis balkan 11/02/2016 press tv russia’ militari nato forc hold parallel militari exercis two neighbor balkan countries. russian troop particip war game serbia nato conduct militari drill montenegro, media report monday. russian forces’ 13-day militari exercis serbia name “the slavic brotherhood 2016” begin wednesday. includ 150 russian paratroopers, 50 air forc staffers, three transport plane unspecifi number troop serbia belarus, russia’ defens ministri said. five-day nato drill montenegro start monday involv respond flood chemic attacks. involv 680 unarm personnel seven nato countri 10 partner states. past serbia montenegro constitut republ socialist feder republ yugoslavia. countri socialist republ tradit russian christian orthodox allies. 2003 state union re-form serbia montenegro, 2006 two becam independ states. sinc split, two balkan neighbor seem head differ direct strategically. montenegro taken pro-western stanc award nato offer join northern atlant alliance. nato invit montenegro met strong opposit russia. meanwhile, montenegrin offici accus russia stage alleg coup octob toppl pro-western govern nato access bid. serbia, nato partner, held exercis western alliance, larg one foreign troop equip particip soil.'\n",
            " \"david swanson david swanson author, activist, journalist, radio host. 2015 nobel peac prize nominee. director worldbeyondwar.com campaign coordin rootsaction.org . host talk nation radio . talk nation radio vt radio syndic pacifica network. show also air wtju, charlottesville, va; wcsx-detroit, mi; kghi, westport, wa; whus, storrs, ct; wprr, grand rapids, mi; krfp-lp, moscow, id; kzgm, cabool, mo; kmud, garberville, ca; wazu, peoria, il; wxrd, crown point, in; geneva radio, geneva, ny; kkrn, round mountain, ca; kskq-lp, ashland, or; wuow-lp, oneonta, ny; lie radio, pinole, ca; wyap-lp, clay, wv; detour, johnson city, tn; wzrd, chicago, il; weft, champaign, il; wxpi, pittsburgh, pa; wdrt, viroqua, wi; verac now, online; liberti justic radio, shirley, ma; ithaca commun radio, ithaca, ny; wmcb, greenfield, ma; prx.org; kao 89.3fm, olympia, wa; wusb 90.1 fm, stoni brook, ny; wool-fm, bellow falls, vermont; wslr-lp 96.5 sarasota, florida. also blog davidswanson.org warisacrime.org prolif author. latest book are; war lie , daybreak: undo imperi presid form perfect union , world outlaw war swanson hold master' degre philosophi univers virginia. work newspap report commun director, job includ press secretari denni kucinich' 2004 presidenti campaign, media coordin intern labor commun association, three year commun coordin acorn, associ commun organ reform now. read full complet biographi davidswanson.org also visit book site war crime . keep f-35 aliv david swanson octob 31, 2016 petit stop f-35 go global david swanson imagin local busi town invent brand new tool intend almost magic effect thousand mile away. however, tool kept use local becam area unsaf children. children got near tool tend increas blood pressur increas stress hormones, lower read skills, poorer memories, impair auditori speech perception, impair academ performance. us would find situat least littl concerning, unless new invent design murder lot people. it’d fine. now, imagin new tool ruin neighborhood peopl couldn’t safe live near it. imagin govern compens peopl kick live near locat tool. again, think, might find troubl mass murder mission. imagin also tool fairli frequent explodes, emit highli toxic chemicals, particles, fiber unsaf breath air mile around. normally, that’d problem. tool need kill lot people, we’ll work flaws, won’t we? now, new gadget expect cost least $1,400,000,000,000 50 years? money taken away numer expens benefici economi world? $1.4 trillion drain economi caus loss job radic diminuit resourc education, healthcare, housing, environment protection, humanitarian aid? wouldn’t worri cases, mean case abil kill ton human be wasn’t stake? product, even work perfectly, lead destroy earth’ natur environment? high-tech toy wasn’t even design expect wasn’t even abl design for? amazingly, even shortcom matter long intent massiv murder destruction. then, forgiven. tool i’m describ call f-35. rootsaction.org find new petit launch locally-mind peopl act global place f-35 intend based. also link you’ll find explan tool i’v decrib f-35. petit direct unit state congress govern australia, italy, netherlands, norway, turkey, unit kingdom, israel, japan south korea world peopl burlington, vermont, fairbanks, alaska, f-35 based. effort initi vermont stop f35 coalition, save sky vermont, western main matters, alaska peac center, univers alaska fairbank peac club, north star chapter 146 veteran peace, world beyond war, rootsaction.org, code pink, ben cohen. petit reads: f-35 weapon offens war, serv defens purpose. plan cost u.s. $1.4 trillion 50 years. starvat earth could end $30 billion lack clean drink water $11 billion per year, first foremost wast resourc airplan kill. militari spending, contrari popular misconception, also hurt u.s. economi ( see ) economies. f-35 caus neg health impact cognit impair children live near bases. render hous near airport unsuit residenti use. high crash rate horribl consequ live area crashes. emiss major environment polluter. war endang unit state particip nation rather protect them. nonviol tool law, diplomacy, aid, crisi prevention, verifi nuclear disarma substitut continu counterproduct wars. therefore, we, undersigned, call immedi cancel f-35 program whole, immedi cancel plan base danger noisi jet near popul areas. oppos replac f-35 weapon base f-35 locations. demand redirect money f-35 back taxpayers’ pockets, environment human need u.s., f-35 custom nations, around world, includ fight climat change, pay student debt, rebuild crumbl infrastructure, improv education, healthcare, housing. add name . david swanson author, activist, journalist, radio host. director worldbeyondwar.org campaign coordin rootsaction.org . swanson’ book includ war lie . blog davidswanson.org warisacrime.org . host talk nation radio .he 2015 2016 nobel peac prize nominee. follow twitter: @davidcnswanson facebook . help support davidswanson.org, warisacrime.org, talknationradio.org click here: http://davidswanson.org/don .\"]\n"
          ]
        }
      ]
    },
    {
      "cell_type": "code",
      "source": [
        "print(Y)"
      ],
      "metadata": {
        "colab": {
          "base_uri": "https://localhost:8080/"
        },
        "id": "l-kT3_foEwKH",
        "outputId": "95f14482-b055-40e2-f491-d574ea89d2bf"
      },
      "execution_count": null,
      "outputs": [
        {
          "output_type": "stream",
          "name": "stdout",
          "text": [
            "[1 0 1 ... 0 1 1]\n"
          ]
        }
      ]
    },
    {
      "cell_type": "code",
      "source": [
        "# converting the textual data to numerical data\n",
        "vectorizer = TfidfVectorizer()\n",
        "vectorizer.fit(X)"
      ],
      "metadata": {
        "colab": {
          "base_uri": "https://localhost:8080/"
        },
        "id": "UliJ18Q-E6Mp",
        "outputId": "0680a2d1-737c-4b01-9bd6-c9eaf4902157"
      },
      "execution_count": null,
      "outputs": [
        {
          "output_type": "execute_result",
          "data": {
            "text/plain": [
              "TfidfVectorizer()"
            ]
          },
          "metadata": {},
          "execution_count": 34
        }
      ]
    },
    {
      "cell_type": "code",
      "source": [
        "X = vectorizer.transform(X)"
      ],
      "metadata": {
        "id": "SEN-kM0sFIgP"
      },
      "execution_count": null,
      "outputs": []
    },
    {
      "cell_type": "code",
      "source": [
        "print(X)"
      ],
      "metadata": {
        "colab": {
          "base_uri": "https://localhost:8080/"
        },
        "id": "HWdTSJW0FPal",
        "outputId": "3d2af723-e1b7-4ffb-b519-fa5e980ab5a9"
      },
      "execution_count": null,
      "outputs": [
        {
          "output_type": "stream",
          "name": "stdout",
          "text": [
            "  (0, 151428)\t0.050071913039277015\n",
            "  (0, 151375)\t0.015220356355382745\n",
            "  (0, 151364)\t0.010293533329965033\n",
            "  (0, 150288)\t0.04506853036683926\n",
            "  (0, 150282)\t0.09672892464338974\n",
            "  (0, 150212)\t0.03855363264055311\n",
            "  (0, 150154)\t0.011679644191508751\n",
            "  (0, 149484)\t0.032144278629615004\n",
            "  (0, 148663)\t0.024772456936669907\n",
            "  (0, 148296)\t0.01743360932321059\n",
            "  (0, 148189)\t0.012807802735056963\n",
            "  (0, 148077)\t0.029820985596897383\n",
            "  (0, 147974)\t0.013487481211466602\n",
            "  (0, 147805)\t0.012332528734804756\n",
            "  (0, 147726)\t0.012165129891091144\n",
            "  (0, 146599)\t0.026518597367161906\n",
            "  (0, 146554)\t0.0322523572978056\n",
            "  (0, 145299)\t0.021965872818272617\n",
            "  (0, 143550)\t0.06666185078693142\n",
            "  (0, 142575)\t0.03413699178360405\n",
            "  (0, 142182)\t0.01783355345603463\n",
            "  (0, 140998)\t0.03936304561109675\n",
            "  (0, 140209)\t0.011298859431651901\n",
            "  (0, 140195)\t0.044040664811357426\n",
            "  (0, 140113)\t0.11937983509258049\n",
            "  :\t:\n",
            "  (20799, 6793)\t0.03147682893707254\n",
            "  (20799, 6711)\t0.03259570613556846\n",
            "  (20799, 6338)\t0.015215116987174662\n",
            "  (20799, 5515)\t0.01834638989613383\n",
            "  (20799, 5331)\t0.03673093303760024\n",
            "  (20799, 5283)\t0.013090105220329069\n",
            "  (20799, 5189)\t0.039479085297578154\n",
            "  (20799, 4789)\t0.02374725931459352\n",
            "  (20799, 4460)\t0.014462284509532318\n",
            "  (20799, 4439)\t0.018137723916794794\n",
            "  (20799, 3880)\t0.030721485839232326\n",
            "  (20799, 3775)\t0.020874778426485628\n",
            "  (20799, 3700)\t0.030922852569078656\n",
            "  (20799, 2656)\t0.0322097705199629\n",
            "  (20799, 2349)\t0.02149803497750514\n",
            "  (20799, 2306)\t0.047567910580876914\n",
            "  (20799, 2149)\t0.2651727164718127\n",
            "  (20799, 2026)\t0.019900446153685157\n",
            "  (20799, 1976)\t0.014951552903517589\n",
            "  (20799, 1435)\t0.020788847177060983\n",
            "  (20799, 1430)\t0.028893937600423174\n",
            "  (20799, 1394)\t0.02267599808629493\n",
            "  (20799, 674)\t0.036605399746918954\n",
            "  (20799, 380)\t0.014808465397090279\n",
            "  (20799, 1)\t0.03684124787776031\n"
          ]
        }
      ]
    },
    {
      "cell_type": "markdown",
      "source": [
        "Splitting the dataset into training and testing data"
      ],
      "metadata": {
        "id": "xYQ2QpM7FXua"
      }
    },
    {
      "cell_type": "code",
      "source": [
        "X_train,X_test,Y_train,Y_test = train_test_split(X,Y,test_size=0.2,stratify=Y,random_state=2)"
      ],
      "metadata": {
        "id": "pq99LTiHFUKm"
      },
      "execution_count": null,
      "outputs": []
    },
    {
      "cell_type": "markdown",
      "source": [
        "Training the model : Logistic Regression"
      ],
      "metadata": {
        "id": "862IRmXcFyUm"
      }
    },
    {
      "cell_type": "code",
      "source": [
        "model = LogisticRegression()"
      ],
      "metadata": {
        "id": "fX_QfuDLFwyI"
      },
      "execution_count": null,
      "outputs": []
    },
    {
      "cell_type": "code",
      "source": [
        "model.fit(X_train,Y_train)"
      ],
      "metadata": {
        "colab": {
          "base_uri": "https://localhost:8080/"
        },
        "id": "8ffNW4wxF9js",
        "outputId": "bd587e1e-6fe8-4bdf-a41c-2f7bdc3035a7"
      },
      "execution_count": null,
      "outputs": [
        {
          "output_type": "execute_result",
          "data": {
            "text/plain": [
              "LogisticRegression()"
            ]
          },
          "metadata": {},
          "execution_count": 39
        }
      ]
    },
    {
      "cell_type": "markdown",
      "source": [
        "Evaluation and Accuracy score"
      ],
      "metadata": {
        "id": "1l3bc82EGGc2"
      }
    },
    {
      "cell_type": "code",
      "source": [
        "# accuracy score on the training data\n",
        "X_train_prediction = model.predict(X_train)\n",
        "training_data_accuracy = accuracy_score(X_train_prediction,Y_train)"
      ],
      "metadata": {
        "id": "91U4eRcHGDk1"
      },
      "execution_count": null,
      "outputs": []
    },
    {
      "cell_type": "code",
      "source": [
        "print(training_data_accuracy)"
      ],
      "metadata": {
        "colab": {
          "base_uri": "https://localhost:8080/"
        },
        "id": "L8LFeshrGfVN",
        "outputId": "967061cb-9f12-4cd3-facb-0b37a0750b36"
      },
      "execution_count": null,
      "outputs": [
        {
          "output_type": "stream",
          "name": "stdout",
          "text": [
            "0.9814302884615385\n"
          ]
        }
      ]
    },
    {
      "cell_type": "code",
      "source": [
        "# accuracy score on the testing data\n",
        "X_test_prediction = model.predict(X_test)\n",
        "testing_data_accuracy = accuracy_score(X_test_prediction,Y_test)"
      ],
      "metadata": {
        "id": "Esv89OgnGh6Z"
      },
      "execution_count": null,
      "outputs": []
    },
    {
      "cell_type": "code",
      "source": [
        "print(testing_data_accuracy)"
      ],
      "metadata": {
        "colab": {
          "base_uri": "https://localhost:8080/"
        },
        "id": "EkVfE-rAHOCM",
        "outputId": "f592faa5-5a75-4894-dccb-657276ac6816"
      },
      "execution_count": null,
      "outputs": [
        {
          "output_type": "stream",
          "name": "stdout",
          "text": [
            "0.9552884615384616\n"
          ]
        }
      ]
    },
    {
      "cell_type": "markdown",
      "source": [
        "Making a predictive system"
      ],
      "metadata": {
        "id": "DuumT5uKHU1Q"
      }
    },
    {
      "cell_type": "code",
      "source": [
        "X_new = X_test[3]\n",
        "\n",
        "prediction = model.predict(X_new)\n",
        "print(prediction)\n",
        "\n",
        "if(prediction[0]==0):\n",
        "  print('The news is Real')\n",
        "else:\n",
        "  print('The news is Fake')  "
      ],
      "metadata": {
        "colab": {
          "base_uri": "https://localhost:8080/"
        },
        "id": "g7LcSJ4CHRJb",
        "outputId": "880aa135-117c-4c1f-f37e-bb04e827ef15"
      },
      "execution_count": null,
      "outputs": [
        {
          "output_type": "stream",
          "name": "stdout",
          "text": [
            "[1]\n",
            "The news is Fake\n"
          ]
        }
      ]
    }
  ]
}